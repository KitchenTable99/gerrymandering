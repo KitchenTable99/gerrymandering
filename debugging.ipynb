{
 "cells": [
  {
   "cell_type": "code",
   "execution_count": 148,
   "id": "interpreted-sending",
   "metadata": {},
   "outputs": [],
   "source": [
    "# the code for the Pixel and PixelMap classes\n",
    "import sys\n",
    "import geopandas as gpd\n",
    "from dataclasses import dataclass, field\n",
    "from typing import List\n",
    "import pickle\n",
    "import numpy as np\n",
    "from shapely.geometry import Polygon, Point\n",
    "from math import ceil\n",
    "import matplotlib.pyplot as plt"
   ]
  },
  {
   "cell_type": "code",
   "execution_count": 173,
   "id": "received-migration",
   "metadata": {},
   "outputs": [],
   "source": [
    "@dataclass\n",
    "class PixelMap:\n",
    "    voting_map: gpd.GeoDataFrame\n",
    "    population_map: gpd.GeoDataFrame\n",
    "    resolution: int\n",
    "    # resolution is the integer part of a percentage representing how much of the square area covered by the maps\n",
    "    # should be covered by an edge length of a pixel\n",
    "    # e.g. if the maps cover a 32 x 40 area and the resolution is 25, the squares should be 10 x 10 (25% of 40)\n",
    "    # In the case that the larger area is not a clean multiple of the resolution, the additional should be rounded\n",
    "    # e.g.                     32 x 39 --> 10x10 squares \n",
    "    # e.g.                     32 x 37 --> 9 x 9 squares\n",
    "    num_districts: int\n",
    "    pixel_map: gpd.GeoDataFrame = field(default_factory=gpd.GeoDataFrame)\n",
    "    boundaries: List[List[int]] = field(default_factory=list)\n",
    "    current_goodness: float = 0.\n",
    "\n",
    "    def __post_init__(self):\n",
    "        # make sure both GDFs are projected into the same crs\n",
    "        self.voting_map = self.voting_map.to_crs(4269)\n",
    "        self.population_map = self.population_map.to_crs(4269)\n",
    "\n",
    "        # find the area covered by at least one map\n",
    "        pop_bounds = self.population_map.bounds\n",
    "        pop_min = pop_bounds.min(axis=0)\n",
    "        pop_max = pop_bounds.max(axis=0)\n",
    "        vote_bounds = self.voting_map.bounds\n",
    "        vote_min = vote_bounds.min(axis=0)\n",
    "        vote_max = vote_bounds.max(axis=0)\n",
    "\n",
    "        x_min = min(pop_min[0], vote_min[0])\n",
    "        y_min = min(pop_min[1], vote_min[1])\n",
    "        x_max = max(pop_max[2], vote_max[2])\n",
    "        y_max = max(pop_max[3], vote_max[3])\n",
    "\n",
    "        print(x_min, y_min, x_max, y_max)\n",
    "\n",
    "        # determine size of squares\n",
    "        x_len = x_max - x_min\n",
    "        y_len = y_max - y_min\n",
    "        max_len = max(x_len, y_len)\n",
    "\n",
    "        target_square = (max_len * self.resolution) / 100\n",
    "        square_len = round(target_square)\n",
    "\n",
    "        # figure out how many squares are needed in each dimension\n",
    "        x_ceil = ceil(x_len)\n",
    "        num_x_squares = x_ceil + (x_ceil % square_len)\n",
    "        y_ceil = ceil(y_len)\n",
    "        num_y_squares = y_ceil + (y_ceil % square_len)\n",
    "\n",
    "        # create the squares to cover the map\n",
    "        squares = []\n",
    "        for i in range(num_y_squares):\n",
    "            for j in range(num_x_squares):\n",
    "                x_start = j * square_len + x_min\n",
    "                x_end = (j + 1) * square_len + x_min\n",
    "                y_start = i * square_len + y_min\n",
    "                y_end = (i + 1) * square_len + y_min\n",
    "\n",
    "                square = Polygon([\n",
    "                    (x_start, y_start),\n",
    "                    (x_end, y_start),\n",
    "                    (x_end, y_end),\n",
    "                    (x_start, y_end)\n",
    "                ])\n",
    "                squares.append(square)\n",
    "\n",
    "        # create squares on a map\n",
    "        pixel_map = gpd.GeoDataFrame(geometry=squares, crs=4269)\n",
    "        pixel_map.insert(0, 'square_num', range(len(pixel_map)))\n",
    "        # calculate weighted average of square intersection\n",
    "        population_map = weighted_intersection(pixel_map, 'square_num', self.population_map, 'population')\n",
    "#         red_map = weighted_intersection(pixel_map, 'square_num', self.voting_map, 'red_votes')\n",
    "#         blue_map = weighted_intersection(pixel_map, 'square_num', self.voting_map, 'blue_votes')\n",
    "        # merge the new squares with the original GeoDataFrames\n",
    "#         pixel_map = population_map.merge(red_map, how='left')\n",
    "#         pixel_map = pixel_map.merge(blue_map, how='left')\n",
    "        # pixel_map = gpd.clip(pixel_map, self.population_map)\n",
    "#         pixel_map.boundary.plot()\n",
    "        plt.show()\n",
    "        with open('pixel_map.pickle', 'wb') as fp:\n",
    "            pickle.dump(pixel_map, fp)\n",
    "        print(pixel_map.head())\n",
    "        # create a 2d list of Nones of the same shape\n",
    "        # for each polygon\n",
    "        # if there is data from both maps create a Pixel for the polygon\n",
    "        # for each polygon\n",
    "        # if the values in the pixel array are actually pixels, find the array neighbors that are also pixels\n",
    "        # store the pixels array in the PixelMap object\n",
    "\n",
    "    def initialize_districts(self) -> None:\n",
    "        # randomly select self.districts unique Pixels in the map\n",
    "        # use cdist to calculate distances between pixels and centroids\n",
    "        # find the closest centroid using np.argmaxj\n",
    "        # assign each pixel to the appropriate class\n",
    "        # create district objects based on new pixels\n",
    "        # for every pixel\n",
    "        # if there is at least one neighbor of a different class, mark as border in separate array\n",
    "        pass"
   ]
  },
  {
   "cell_type": "code",
   "execution_count": 174,
   "id": "informal-gathering",
   "metadata": {},
   "outputs": [
    {
     "name": "stdout",
     "output_type": "stream",
     "text": [
      "-84.32186899100626 33.75287799999527 -75.40011899114585 36.588157000000066\n",
      "   square_num                                           geometry\n",
      "0           0  POLYGON ((-84.32187 33.75288, -83.32187 33.752...\n",
      "1           1  POLYGON ((-83.32187 33.75288, -82.32187 33.752...\n",
      "2           2  POLYGON ((-82.32187 33.75288, -81.32187 33.752...\n",
      "3           3  POLYGON ((-81.32187 33.75288, -80.32187 33.752...\n",
      "4           4  POLYGON ((-80.32187 33.75288, -79.32187 33.752...\n"
     ]
    }
   ],
   "source": [
    "nc_votes = gpd.read_file('./nc_data/voters_shapefile/NC_G18.shp')\n",
    "nc_pop = gpd.read_file('./nc_data/population.geojson')\n",
    "nc_votes = nc_votes[['G18LStSEN', 'G18RStSEN', 'geometry']].rename(\n",
    "columns={'G18LStSEN': 'blue_votes', 'G18RStSEN': 'red_votes'})\n",
    "nc_pixel_map = PixelMap(nc_votes, nc_pop, 6, 13)\n",
    "# nc_pixel_map.plot()\n",
    "    # print(nc_pixel_map)\n",
    "    # print(Pixel(3,4,4))"
   ]
  },
  {
   "cell_type": "code",
   "execution_count": 175,
   "id": "personalized-depth",
   "metadata": {},
   "outputs": [
    {
     "data": {
      "image/png": "[encoded data removed]",
      "text/plain": [
       "<Figure size 432x288 with 1 Axes>"
      ]
     },
     "metadata": {
      "needs_background": "light"
     },
     "output_type": "display_data"
    }
   ],
   "source": [
    "pixel_map = gpd.read_file('pixel_map.geojson')\n",
    "pixel_map.boundary.plot();"
   ]
  },
  {
   "cell_type": "code",
   "execution_count": 160,
   "id": "piano-burning",
   "metadata": {},
   "outputs": [],
   "source": [
    "def weighted_intersection(gdf1: gpd.GeoDataFrame, gdf1_idx: str, gdf2: gpd.GeoDataFrame, weight_str: str) \\\n",
    "        -> gpd.GeoDataFrame:\n",
    "    # gdf1 is the gdf that contains the polygons into which we want to put information from gdf2\n",
    "    # make sure gdf2 has an area column\n",
    "    # intersect via overlay\n",
    "    # see how much area the intersection has\n",
    "    # find proportion of gdf2 area: intersection area\"\n",
    "    # make the propotion of gdf2 feature: intersection feature\n",
    "    # sum the population\n",
    "    \n",
    "    \n",
    "    # gdf1: geometry to fit into\n",
    "    \n",
    "    # gdf2: geometry to take from\n",
    "        #   area of each geometry\n",
    "        \n",
    "    # intersection: area of geometry of gdf2\n",
    "                #   area of intersected area\n",
    "                #   proportion of intersected area to gdf2 area\n",
    "                #   population contained in gdf2 polygon\n",
    "                #   population contained in intersected area\n",
    "    \n",
    "    gdf1 = gdf1.to_crs(3857)\n",
    "    gdf2 = gdf2.to_crs(3857)\n",
    "    \n",
    "    gdf2.insert(0, 'gdf2_num', range(len(gdf2)))\n",
    "    \n",
    "    if 'area' not in gdf2.columns:\n",
    "        gdf2['area'] = gdf2.area\n",
    "    \n",
    "    inter = gpd.overlay(gdf1, gdf2, how='intersection')\n",
    "    inter['inter_area'] = inter.area\n",
    "    inter['gdf2_area'] = inter.apply(lambda row: gdf2.at[row['gdf2_num'], 'area'], axis=1)\n",
    "    inter['prop ' + weight_str] = (inter['inter_area'] / inter['gdf2_area']) * inter[weight_str]\n",
    "    inter = inter[['square_num', 'prop ' + weight_str]]\n",
    "    \n",
    "    groups = inter.groupby('square_num').sum()\n",
    "    \n",
    "    gdf1['attr'] = np.nan\n",
    "    for row in groups.iterrows():\n",
    "        square, attr = row\n",
    "        attr = float(attr)\n",
    "        gdf1.at[square, 'attr'] = attr\n",
    "    \n",
    "    \n",
    "    return gdf1.rename(columns={'attr': gdf1_idx})"
   ]
  },
  {
   "cell_type": "code",
   "execution_count": 177,
   "id": "further-qualification",
   "metadata": {},
   "outputs": [],
   "source": [
    "pixel_map.insert(0, 'square_num', range(len(pixel_map)))\n",
    "population_map = weighted_intersection(pixel_map, 'population', nc_pop, 'population')"
   ]
  },
  {
   "cell_type": "code",
   "execution_count": 178,
   "id": "generic-freeze",
   "metadata": {},
   "outputs": [
    {
     "data": {
      "text/plain": [
       "<AxesSubplot:>"
      ]
     },
     "execution_count": 178,
     "metadata": {},
     "output_type": "execute_result"
    },
    {
     "data": {
      "image/png": "[encoded data removed]",
      "text/plain": [
       "<Figure size 432x288 with 1 Axes>"
      ]
     },
     "metadata": {
      "needs_background": "light"
     },
     "output_type": "display_data"
    }
   ],
   "source": [
    "population_map.plot(column='population')"
   ]
  },
  {
   "cell_type": "code",
   "execution_count": 155,
   "id": "superb-trial",
   "metadata": {},
   "outputs": [
    {
     "data": {
      "text/plain": [
       "<AxesSubplot:>"
      ]
     },
     "execution_count": 155,
     "metadata": {},
     "output_type": "execute_result"
    },
    {
     "data": {
      "image/png": "[encoded data removed]",
      "text/plain": [
       "<Figure size 432x288 with 1 Axes>"
      ]
     },
     "metadata": {
      "needs_background": "light"
     },
     "output_type": "display_data"
    }
   ],
   "source": [
    "population_map.boundary.plot()"
   ]
  },
  {
   "cell_type": "code",
   "execution_count": 156,
   "id": "former-trick",
   "metadata": {},
   "outputs": [
    {
     "data": {
      "text/plain": [
       "<AxesSubplot:>"
      ]
     },
     "execution_count": 156,
     "metadata": {},
     "output_type": "execute_result"
    },
    {
     "data": {
      "image/png": "[encoded data removed]",
      "text/plain": [
       "<Figure size 432x288 with 1 Axes>"
      ]
     },
     "metadata": {
      "needs_background": "light"
     },
     "output_type": "display_data"
    }
   ],
   "source": [
    "nc_pop.plot()"
   ]
  },
  {
   "cell_type": "code",
   "execution_count": 145,
   "id": "played-atlantic",
   "metadata": {},
   "outputs": [
    {
     "name": "stdout",
     "output_type": "stream",
     "text": [
      "16991.78705920604\n",
      "4\n",
      "211095.41107781845\n",
      "5\n",
      "464906.42772082984\n",
      "6\n",
      "58659.440152204974\n",
      "7\n",
      "85452.074589736\n",
      "9\n",
      "463748.31999879016\n",
      "10\n",
      "385999.13733485143\n",
      "11\n",
      "2005965.1492757122\n",
      "12\n",
      "458376.01221576193\n",
      "13\n",
      "1196030.9605349088\n",
      "14\n",
      "590943.7065409566\n",
      "15\n",
      "276391.5851019422\n",
      "16\n",
      "42559.441893263946\n",
      "17\n",
      "49373.49217887095\n",
      "19\n",
      "272146.9252194144\n",
      "20\n",
      "568860.4200808634\n",
      "21\n",
      "1169814.046015278\n",
      "22\n",
      "1290924.3566213753\n",
      "23\n",
      "331638.7213357752\n",
      "24\n",
      "134303.86791520848\n",
      "25\n",
      "81442.71713722851\n",
      "26\n"
     ]
    }
   ],
   "source": [
    "for idx, row in population_map.iterrows():\n",
    "    print(float(row))\n",
    "    print(idx)\n",
    "#     square, pop = row\n",
    "#     pop = float(pop)\n",
    "#     print(pop)"
   ]
  },
  {
   "cell_type": "code",
   "execution_count": null,
   "id": "infectious-yukon",
   "metadata": {},
   "outputs": [],
   "source": []
  }
 ],
 "metadata": {
  "kernelspec": {
   "display_name": "Python 3",
   "language": "python",
   "name": "python3"
  },
  "language_info": {
   "codemirror_mode": {
    "name": "ipython",
    "version": 3
   },
   "file_extension": ".py",
   "mimetype": "text/x-python",
   "name": "python",
   "nbconvert_exporter": "python",
   "pygments_lexer": "ipython3",
   "version": "3.9.0"
  }
 },
 "nbformat": 4,
 "nbformat_minor": 5
}
